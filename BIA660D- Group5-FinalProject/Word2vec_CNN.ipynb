{
 "cells": [
  {
   "cell_type": "markdown",
   "metadata": {},
   "source": [
    "## Classification with CNN\n",
    "- Dataset: Steam reviews (Steam.csv)\n",
    "- 2990 labeled game reviews\n",
    "- Performance is greater than 80%. The recall score is better improved.\n",
    "- The CNN model is performed as following:\n",
    "  - Using pretrained word vectors:\n",
    "    - Obtained by train Word2Vec/Doc2Vec model\n",
    "      - We will check the word similarity to choose the best performance word vectors trained         from word2vec and doc2vec    \n",
    "    - Mapping the word with vacabulary and creating embedding matrix\n",
    "    - Set embedding layer with the embedding matrix \n",
    "  - Tuning hyperparameter through sample lengh and word frequency counting\n",
    "  - Filters in three size:\n",
    "    - bigram (ConvID, kernel_size = 2)\n",
    "    - trigram (ConvID, kernel_size = 3)\n",
    "    - quadrigram (ConvID, kernel_size = 4)\n",
    "  - Max pooling\n",
    "  - Regularization: Dropout\n",
    "  - Max Epochs: 100, early stop before the accuracy of validation steeply drop down\n",
    "\n",
    "## Conclusion\n",
    "- **The CNN extracted features by different size filters indirectly consider the semantics of the words has a better performance in classification compared with NB and SVM models.**\n",
    "- **The CNN model has a benchmark of an accuracy more than 80%.**\n",
    "- **The pretrained matrix set at embedding layer, training by doc2vec consider the paragraph vector in predicting next word, has improved the model.**"
   ]
  },
  {
   "cell_type": "code",
   "execution_count": 1,
   "metadata": {},
   "outputs": [
    {
     "name": "stderr",
     "output_type": "stream",
     "text": [
      "/anaconda3/lib/python3.6/site-packages/h5py/__init__.py:36: FutureWarning: Conversion of the second argument of issubdtype from `float` to `np.floating` is deprecated. In future, it will be treated as `np.float64 == np.dtype(float).type`.\n",
      "  from ._conv import register_converters as _register_converters\n",
      "Using TensorFlow backend.\n"
     ]
    }
   ],
   "source": [
    "import pandas as pd\n",
    "import re\n",
    "import warnings\n",
    "import nltk,string\n",
    "from gensim.models import word2vec\n",
    "import logging\n",
    "import matplotlib.pyplot as plt\n",
    "from gensim.models.doc2vec import TaggedDocument\n",
    "from random import shuffle\n",
    "from gensim.models import doc2vec\n",
    "from keras.preprocessing.text import Tokenizer\n",
    "from keras.preprocessing.sequence import pad_sequences\n",
    "import numpy as np\n",
    "from sklearn.model_selection import train_test_split\n",
    "from sklearn.metrics import classification_report\n",
    "from keras.callbacks import EarlyStopping, ModelCheckpoint\n",
    "from keras.utils import np_utils\n",
    "warnings.filterwarnings(\"ignore\")"
   ]
  },
  {
   "cell_type": "code",
   "execution_count": 3,
   "metadata": {},
   "outputs": [],
   "source": [
    "# load 19900 unlabeled data to train word2vec and doc2vec\n",
    "df = pd.read_csv('steam.csv')\n",
    "df['user_reviews'] = df['user_reviews'].apply(\\\n",
    "                        lambda row: ' '.join(re.split(r'\\W+', row)).strip(' '))\n",
    "df['len'] = df['user_reviews'].apply(lambda r: len(nltk.word_tokenize(r)))\n",
    "df_sub = df[(df.len>=10)]\n",
    "reviews = df_sub['user_reviews'].tolist()\n",
    "tokens =[ [token.strip(string.punctuation).strip() \\\n",
    "             for token in nltk.word_tokenize(doc.lower()) \\\n",
    "                 if token not in string.punctuation and \\\n",
    "                 len(token.strip(string.punctuation).strip())>=2]\\\n",
    "             for doc in reviews]"
   ]
  },
  {
   "cell_type": "code",
   "execution_count": 4,
   "metadata": {
    "scrolled": true
   },
   "outputs": [],
   "source": [
    "EMBEDDING_DIM = 50\n",
    "wv_model = word2vec.Word2Vec(tokens, min_count=2, size=EMBEDDING_DIM, window=20, workers=4)\n",
    "\n",
    "# doc_model\n",
    "docs = [TaggedDocument(tokens[i], [str(i)]) for i in range(len(tokens)) ]\n",
    "doc_model = doc2vec.Doc2Vec(dm=1, min_count=3, window=5, size=EMBEDDING_DIM, workers=4)\n",
    "doc_model.build_vocab(docs)\n",
    "for epoch in range(30):\n",
    "     # shuffle the documents in each epoch\n",
    "    shuffle(docs)\n",
    "     # in each epoch, all samples are used\n",
    "    doc_model.train(docs, total_examples=len(docs), epochs=1)"
   ]
  },
  {
   "cell_type": "code",
   "execution_count": 5,
   "metadata": {},
   "outputs": [],
   "source": [
    "# find top 5 most similar words to evaluate the pretrained doc2vec and word2vec\n",
    "def vm_bar_chart(word,model):\n",
    "    f = dict(model.wv.most_similar(word, topn=5))\n",
    "    plt.bar(range(len(f)), list(f.values()), align='center')\n",
    "    plt.xticks(range(len(f)), list(f.keys()))\n",
    "    plt.show()"
   ]
  },
  {
   "cell_type": "code",
   "execution_count": 6,
   "metadata": {},
   "outputs": [
    {
     "data": {
      "image/png": "[encoded data removed]",
      "text/plain": [
       "<Figure size 432x288 with 1 Axes>"
      ]
     },
     "metadata": {},
     "output_type": "display_data"
    },
    {
     "data": {
      "image/png": "[encoded data removed]",
      "text/plain": [
       "<Figure size 432x288 with 1 Axes>"
      ]
     },
     "metadata": {},
     "output_type": "display_data"
    }
   ],
   "source": [
    "# Similarity check to find the better word weights matrix\n",
    "vm_bar_chart('play',doc_model)\n",
    "vm_bar_chart('play',wv_model)"
   ]
  },
  {
   "cell_type": "code",
   "execution_count": 8,
   "metadata": {},
   "outputs": [],
   "source": [
    "from keras.layers import Embedding, Dense, Conv1D, MaxPooling1D, \\\n",
    "Dropout, Activation, Input, Flatten, Concatenate\n",
    "from keras.models import Model\n",
    "from keras.regularizers import l2\n",
    "from keras.callbacks import EarlyStopping, ModelCheckpoint\n",
    "\n",
    "def cnn_model(FILTER_SIZES, MAX_NB_WORDS, MAX_DOC_LEN, EMBEDDING_DIM,\\\n",
    "              train, test, label_train, label_test,\\\n",
    "              NUM_FILTERS=64, \n",
    "              DROP_OUT=0.5, \n",
    "              NUM_OUTPUT_UNITS=1, \n",
    "              NUM_DENSE_UNITS=100,\n",
    "              PRETRAINED_WORD_VECTOR=None,\n",
    "              LAM=0.0):\n",
    "    \n",
    "    main_input = Input(shape=(MAX_DOC_LEN,), \\\n",
    "                       dtype='int32', name='main_input')\n",
    "    \n",
    "    if PRETRAINED_WORD_VECTOR is not None:\n",
    "        embed_1 = Embedding(input_dim=MAX_NB_WORDS+1, \\\n",
    "                        output_dim=EMBEDDING_DIM, \\\n",
    "                        input_length=MAX_DOC_LEN, \\\n",
    "                        # use pretrained word vectors\n",
    "                        weights=[PRETRAINED_WORD_VECTOR],\\\n",
    "                        # word vectors can be further tuned\n",
    "                        trainable=True,\\\n",
    "                        name='embedding')(main_input)\n",
    "    else:\n",
    "        embed_1 = Embedding(input_dim=MAX_NB_WORDS+1, \\\n",
    "                        output_dim=EMBEDDING_DIM, \\\n",
    "                        input_length=MAX_DOC_LEN, \\\n",
    "                        name='embedding')(main_input)\n",
    "    # add convolution-pooling-flat block\n",
    "    conv_blocks = []\n",
    "    for f in FILTER_SIZES:\n",
    "        conv = Conv1D(filters=NUM_FILTERS, kernel_size=f, \\\n",
    "                      activation='relu', name='conv_'+str(f))(embed_1)\n",
    "        conv = MaxPooling1D(MAX_DOC_LEN-f+1, name='max_'+str(f))(conv)\n",
    "        conv = Flatten(name='flat_'+str(f))(conv)\n",
    "        conv_blocks.append(conv)\n",
    "    \n",
    "    if len(conv_blocks)>1:\n",
    "        z=Concatenate(name='concate')(conv_blocks)\n",
    "    else:\n",
    "        z=conv_blocks[0]\n",
    "        \n",
    "    drop=Dropout(rate=DROP_OUT, name='dropout')(z)\n",
    "\n",
    "    dense = Dense(NUM_DENSE_UNITS, activation='relu',\\\n",
    "                    kernel_regularizer=l2(LAM),name='dense')(drop)\n",
    "    preds = Dense(NUM_OUTPUT_UNITS, activation='sigmoid', name='output')(dense)\n",
    "    model = Model(inputs=main_input, outputs=preds)\n",
    "    \n",
    "    model.compile(loss=\"binary_crossentropy\", \\\n",
    "              optimizer=\"adam\", metrics=[\"accuracy\"]) \n",
    "    earlyStopping=EarlyStopping(monitor='val_loss', patience=0, verbose=2, mode='min')\n",
    "\n",
    "    BEST_MODEL_FILEPATH=\"best_model\"\n",
    "    checkpoint = ModelCheckpoint(BEST_MODEL_FILEPATH, monitor='val_loss', \\\n",
    "                             verbose=0, save_best_only=True, mode='min')\n",
    "    \n",
    "    training=model.fit(X_train, y_train, \\\n",
    "                       batch_size=BTACH_SIZE, epochs=NUM_EPOCHES, \\\n",
    "                       callbacks=[earlyStopping,checkpoint],\\\n",
    "                       validation_data=[X_test, y_test], verbose=2)\n",
    "    model.load_weights(\"best_model\")\n",
    "\n",
    "    pred=model.predict(X_test)\n",
    "\n",
    "    pred=np.where(pred>0.5, 1, 0)\n",
    "\n",
    "    print(classification_report(y_test, pred))\n",
    "    return training"
   ]
  },
  {
   "cell_type": "code",
   "execution_count": 11,
   "metadata": {},
   "outputs": [],
   "source": [
    "# Classification on labeled data\n",
    "# load the labeled reviews\n",
    "df_train = pd.read_csv('steam_reviews.csv')\n",
    "df_train['user_reviews'] = df_train['user_reviews'].apply(\\\n",
    "                        lambda row: ' '.join(re.split(r'\\W+', row)).strip(' '))\n",
    "df_train['label'] = df_train['recommended or not'].replace({'Recommended': 1, 'Not Recommended': 0})\n",
    " \n",
    "MAX_NB_WORDS=3585\n",
    "MAX_DOC_LEN=100\n",
    "tokenizer = Tokenizer(num_words=MAX_NB_WORDS)\n",
    "tokenizer.fit_on_texts(df_train[\"user_reviews\"])\n",
    "sequences = tokenizer.texts_to_sequences(df_train[\"user_reviews\"])\n",
    "\n",
    "padded_sequences = pad_sequences(sequences, \\\n",
    "                                 maxlen=MAX_DOC_LEN, \\\n",
    "                                 padding='post', \\\n",
    "                                 truncating='post')\n",
    "\n",
    "NUM_WORDS = min(MAX_NB_WORDS, len(tokenizer.word_index))\n",
    "embedding_matrix = np.zeros((NUM_WORDS+1, EMBEDDING_DIM))\n",
    "\n",
    "for word, i in tokenizer.word_index.items():\n",
    "    if i >= NUM_WORDS:\n",
    "        continue\n",
    "    if word in doc_model.wv:\n",
    "        embedding_matrix[i]=doc_model.wv[word]\n",
    "\n",
    "X_train, X_test, y_train, y_test = train_test_split(\\\n",
    "                        padded_sequences, np_utils.to_categorical(df_train['label'], num_classes=2),\\\n",
    "                        test_size=0.3, random_state=1)"
   ]
  },
  {
   "cell_type": "code",
   "execution_count": 12,
   "metadata": {},
   "outputs": [],
   "source": [
    "# Hyperparameter select\n",
    "# plot the words frequency in reviews\n",
    "def word_count_freq(tokenizer):\n",
    "    df=pd.DataFrame.from_dict(tokenizer.word_counts, orient=\"index\")\n",
    "    df.columns = ['freq']\n",
    "    print(df.head())\n",
    "    df=df['freq'].value_counts().reset_index()\n",
    "    df.columns=['word_freq','count']\n",
    "\n",
    "    df=df.sort_values(by='word_freq')\n",
    "    df['percent']=df['count']/len(tokenizer.word_counts)\n",
    "    df['cumsum']=df['percent'].cumsum()\n",
    "    print(df.head())\n",
    "    df.iloc[0:50].plot(x='word_freq', y='cumsum');\n",
    "    plt.show();\n",
    "    \n",
    "# plot the sequences(reviews in df) lenth\n",
    "def sen_len(seq):\n",
    "    sen_len=pd.Series([len(item) for item in seq])\n",
    "    df=sen_len.value_counts().reset_index().sort_values(by='index')\n",
    "    df.columns=['sent_length','counts']\n",
    "    df['percent']=df['counts']/len(sen_len)\n",
    "    df['cumsum']=df['percent'].cumsum()\n",
    "    print(df.head(3))\n",
    "    df.plot(x=\"sent_length\", y='cumsum');\n",
    "    plt.show();"
   ]
  },
  {
   "cell_type": "code",
   "execution_count": 13,
   "metadata": {},
   "outputs": [
    {
     "name": "stdout",
     "output_type": "stream",
     "text": [
      "           freq\n",
      "pubg        215\n",
      "corp         11\n",
      "initiated     1\n",
      "their        46\n",
      "fix         110\n",
      "   word_freq  count   percent    cumsum\n",
      "0          1   1643  0.458298  0.458298\n",
      "1          2    679  0.189400  0.647699\n",
      "2          3    256  0.071409  0.719107\n",
      "3          4    175  0.048815  0.767922\n",
      "4          5    129  0.035983  0.803905\n"
     ]
    },
    {
     "data": {
      "image/png": "[encoded data removed]",
      "text/plain": [
       "<Figure size 432x288 with 1 Axes>"
      ]
     },
     "metadata": {},
     "output_type": "display_data"
    },
    {
     "name": "stdout",
     "output_type": "stream",
     "text": [
      "    sent_length  counts   percent    cumsum\n",
      "10            0      61  0.029187  0.029187\n",
      "1             1     216  0.103349  0.132536\n",
      "0             2     228  0.109091  0.241627\n"
     ]
    },
    {
     "data": {
      "image/png": "[encoded data removed]",
      "text/plain": [
       "<Figure size 432x288 with 1 Axes>"
      ]
     },
     "metadata": {},
     "output_type": "display_data"
    }
   ],
   "source": [
    "word_count_freq(tokenizer)\n",
    "sen_len(sequences)"
   ]
  },
  {
   "cell_type": "code",
   "execution_count": 14,
   "metadata": {},
   "outputs": [
    {
     "name": "stdout",
     "output_type": "stream",
     "text": [
      "Model generated without pretrained matrix:\n",
      "\n",
      "Train on 1463 samples, validate on 627 samples\n",
      "Epoch 1/100\n",
      " - 2s - loss: 0.4830 - acc: 0.8165 - val_loss: 0.4910 - val_acc: 0.7799\n",
      "Epoch 2/100\n",
      " - 1s - loss: 0.3617 - acc: 0.8414 - val_loss: 0.3404 - val_acc: 0.8517\n",
      "Epoch 3/100\n",
      " - 1s - loss: 0.1970 - acc: 0.9224 - val_loss: 0.3307 - val_acc: 0.8692\n",
      "Epoch 4/100\n",
      " - 1s - loss: 0.1042 - acc: 0.9648 - val_loss: 0.3758 - val_acc: 0.8676\n",
      "Epoch 00004: early stopping\n",
      "             precision    recall  f1-score   support\n",
      "\n",
      "          0       0.77      0.57      0.66       138\n",
      "          1       0.89      0.95      0.92       489\n",
      "\n",
      "avg / total       0.87      0.87      0.86       627\n",
      "\n",
      "Model generated with pretrained matrix:\n",
      "\n",
      "Train on 1463 samples, validate on 627 samples\n",
      "Epoch 1/100\n",
      " - 2s - loss: 0.5891 - acc: 0.7714 - val_loss: 0.4060 - val_acc: 0.8238\n",
      "Epoch 2/100\n",
      " - 1s - loss: 0.4119 - acc: 0.8332 - val_loss: 0.3833 - val_acc: 0.8222\n",
      "Epoch 3/100\n",
      " - 2s - loss: 0.3685 - acc: 0.8510 - val_loss: 0.3359 - val_acc: 0.8604\n",
      "Epoch 4/100\n",
      " - 1s - loss: 0.2981 - acc: 0.8804 - val_loss: 0.3137 - val_acc: 0.8708\n",
      "Epoch 5/100\n",
      " - 1s - loss: 0.2452 - acc: 0.8992 - val_loss: 0.3056 - val_acc: 0.8820\n",
      "Epoch 6/100\n",
      " - 1s - loss: 0.2371 - acc: 0.9084 - val_loss: 0.3043 - val_acc: 0.8884\n",
      "Epoch 7/100\n",
      " - 1s - loss: 0.1750 - acc: 0.9289 - val_loss: 0.2924 - val_acc: 0.9019\n",
      "Epoch 8/100\n",
      " - 1s - loss: 0.1876 - acc: 0.9275 - val_loss: 0.2949 - val_acc: 0.8947\n",
      "Epoch 00008: early stopping\n",
      "             precision    recall  f1-score   support\n",
      "\n",
      "          0       0.86      0.67      0.76       138\n",
      "          1       0.90      0.97      0.94       489\n",
      "\n",
      "avg / total       0.90      0.91      0.90       627\n",
      "\n"
     ]
    }
   ],
   "source": [
    "MAX_NB_WORDS=3585\n",
    "MAX_DOC_LEN=100\n",
    "FILTER_SIZES=[2,3,4]\n",
    "output_units_num=2\n",
    "num_filters= 64\n",
    "dense_units_num = num_filters*len(FILTER_SIZES)\n",
    "BTACH_SIZE = 8\n",
    "NUM_EPOCHES = 100\n",
    "\n",
    "print('Model generated without pretrained matrix:\\n')\n",
    "model_cnn = cnn_model(FILTER_SIZES, MAX_NB_WORDS, \\\n",
    "                MAX_DOC_LEN, \\\n",
    "                NUM_FILTERS=num_filters,\\\n",
    "                EMBEDDING_DIM = EMBEDDING_DIM,\n",
    "                NUM_OUTPUT_UNITS=output_units_num, \\\n",
    "                NUM_DENSE_UNITS=dense_units_num,\\\n",
    "                train=X_train, label_train=y_train, test=X_test, label_test=y_test)\n",
    "\n",
    "print('Model generated with pretrained matrix:\\n')\n",
    "model_doc2vec = cnn_model(FILTER_SIZES, MAX_NB_WORDS, \\\n",
    "                MAX_DOC_LEN, \\\n",
    "                NUM_FILTERS=num_filters,\\\n",
    "                EMBEDDING_DIM = EMBEDDING_DIM,\n",
    "                NUM_OUTPUT_UNITS=output_units_num, \\\n",
    "                NUM_DENSE_UNITS=dense_units_num,\\\n",
    "                PRETRAINED_WORD_VECTOR=embedding_matrix,\\\n",
    "                train=X_train, label_train=y_train, test=X_test, label_test=y_test)"
   ]
  },
  {
   "cell_type": "code",
   "execution_count": 15,
   "metadata": {},
   "outputs": [],
   "source": [
    "def results_plot(train):\n",
    "    df=pd.DataFrame.from_dict(train.history)\n",
    "    df.columns=[\"val_loss\", \"val_acc\", \\\n",
    "                \"train_loss\", \"train_acc\"]\n",
    "    df.index.name='epoch'\n",
    "    print(df)\n",
    "    fig, axes = plt.subplots(nrows=1, ncols=2, figsize=(8,3));\n",
    "    df[[\"train_acc\", \"val_acc\"]].plot(ax=axes[0]);\n",
    "    df[[\"train_loss\", \"val_loss\"]].plot(ax=axes[1]);\n",
    "    plt.show();"
   ]
  },
  {
   "cell_type": "code",
   "execution_count": 16,
   "metadata": {},
   "outputs": [
    {
     "name": "stdout",
     "output_type": "stream",
     "text": [
      "       val_loss   val_acc  train_loss  train_acc\n",
      "epoch                                           \n",
      "0      0.491019  0.779904    0.482970   0.816473\n",
      "1      0.340432  0.851675    0.361726   0.841422\n",
      "2      0.330736  0.869219    0.197025   0.922420\n",
      "3      0.375842  0.867624    0.104192   0.964798\n"
     ]
    },
    {
     "data": {
      "image/png": "[encoded data removed]",
      "text/plain": [
       "<Figure size 576x216 with 2 Axes>"
      ]
     },
     "metadata": {},
     "output_type": "display_data"
    },
    {
     "name": "stdout",
     "output_type": "stream",
     "text": [
      "       val_loss   val_acc  train_loss  train_acc\n",
      "epoch                                           \n",
      "0      0.406011  0.823764    0.589092   0.771360\n",
      "1      0.383253  0.822169    0.411907   0.833219\n",
      "2      0.335873  0.860447    0.368466   0.850991\n",
      "3      0.313707  0.870813    0.298103   0.880383\n",
      "4      0.305618  0.881978    0.245211   0.899180\n",
      "5      0.304285  0.888357    0.237096   0.908407\n",
      "6      0.292384  0.901914    0.174957   0.928913\n",
      "7      0.294899  0.894737    0.187612   0.927546\n"
     ]
    },
    {
     "data": {
      "image/png": "[encoded data removed]",
      "text/plain": [
       "<Figure size 576x216 with 2 Axes>"
      ]
     },
     "metadata": {},
     "output_type": "display_data"
    }
   ],
   "source": [
    "results_plot(model_cnn)\n",
    "results_plot(model_doc2vec)"
   ]
  }
 ],
 "metadata": {
  "kernelspec": {
   "display_name": "Python [conda env:anaconda3]",
   "language": "python",
   "name": "conda-env-anaconda3-py"
  },
  "language_info": {
   "codemirror_mode": {
    "name": "ipython",
    "version": 3
   },
   "file_extension": ".py",
   "mimetype": "text/x-python",
   "name": "python",
   "nbconvert_exporter": "python",
   "pygments_lexer": "ipython3",
   "version": "3.6.5"
  }
 },
 "nbformat": 4,
 "nbformat_minor": 2
}
